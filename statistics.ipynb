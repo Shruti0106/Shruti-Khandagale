{
 "cells": [
  {
   "cell_type": "code",
   "execution_count": 8,
   "id": "1471a8ca-5cfe-4f18-b01e-a9413030e701",
   "metadata": {},
   "outputs": [
    {
     "name": "stdout",
     "output_type": "stream",
     "text": [
      "41.25\n",
      "35.0\n",
      "30\n"
     ]
    }
   ],
   "source": [
    "import statistics as stat\n",
    "food_prices = (30,40,50,60,70,30,30,20)\n",
    "\n",
    "    #mean (mean value of list)\n",
    "print(stat.mean(food_prices))\n",
    "    # median (middle value in a sorted list)\n",
    "print(stat.median(food_prices))\n",
    "    #mode (most frequently used value)\n",
    "print(stat.mode(food_prices))"
   ]
  },
  {
   "cell_type": "code",
   "execution_count": null,
   "id": "8f5061bf-b3ea-4dd0-ad72-4a1c2a785f09",
   "metadata": {},
   "outputs": [],
   "source": []
  }
 ],
 "metadata": {
  "kernelspec": {
   "display_name": "Python 3 (ipykernel)",
   "language": "python",
   "name": "python3"
  },
  "language_info": {
   "codemirror_mode": {
    "name": "ipython",
    "version": 3
   },
   "file_extension": ".py",
   "mimetype": "text/x-python",
   "name": "python",
   "nbconvert_exporter": "python",
   "pygments_lexer": "ipython3",
   "version": "3.12.7"
  }
 },
 "nbformat": 4,
 "nbformat_minor": 5
}
