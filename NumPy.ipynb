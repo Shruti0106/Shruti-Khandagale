{
 "cells": [
  {
   "cell_type": "code",
   "execution_count": 1,
   "id": "2ba503e1-a0eb-4a18-9967-63182ef5e016",
   "metadata": {},
   "outputs": [
    {
     "name": "stdout",
     "output_type": "stream",
     "text": [
      "[1 2 3]\n"
     ]
    }
   ],
   "source": [
    "# creating the new array\n",
    "import numpy as np\n",
    "print(np.array([1,2,3]))"
   ]
  },
  {
   "cell_type": "code",
   "execution_count": 2,
   "id": "caae87a7-d194-401d-bedf-1633a25026bb",
   "metadata": {},
   "outputs": [
    {
     "name": "stdout",
     "output_type": "stream",
     "text": [
      "hello\n"
     ]
    }
   ],
   "source": [
    "print(\"hello\")"
   ]
  },
  {
   "cell_type": "code",
   "execution_count": 3,
   "id": "1bddd62e-650e-48ba-b5ba-264a9c74017a",
   "metadata": {},
   "outputs": [
    {
     "name": "stdout",
     "output_type": "stream",
     "text": [
      "[10 20 30 40 50]\n"
     ]
    }
   ],
   "source": [
    "import numpy as np\n",
    "arr = np.array([10,20,30,40,50])\n",
    "print(arr)"
   ]
  },
  {
   "cell_type": "code",
   "execution_count": 4,
   "id": "4ad68804-dd4c-4f2a-b88b-8c012686253e",
   "metadata": {},
   "outputs": [
    {
     "name": "stdout",
     "output_type": "stream",
     "text": [
      "1.26.4\n"
     ]
    }
   ],
   "source": [
    "# check version\n",
    "print(np.__version__)"
   ]
  },
  {
   "cell_type": "code",
   "execution_count": 5,
   "id": "58bf1fc7-2773-43d0-b230-e1660436cd6a",
   "metadata": {},
   "outputs": [
    {
     "name": "stdout",
     "output_type": "stream",
     "text": [
      "<class 'numpy.ndarray'>\n"
     ]
    }
   ],
   "source": [
    "# Check array type\n",
    "arr2 = np.array([1,2,3,4,5])\n",
    "print(type(arr2))"
   ]
  },
  {
   "cell_type": "code",
   "execution_count": 6,
   "id": "3a952cce-3c10-44cb-9ad6-57707277ec94",
   "metadata": {},
   "outputs": [
    {
     "name": "stdout",
     "output_type": "stream",
     "text": [
      "24\n"
     ]
    }
   ],
   "source": [
    "# 0 dimension array\n",
    "import numpy as np\n",
    "arr = np.array(24)\n",
    "print(arr)"
   ]
  },
  {
   "cell_type": "code",
   "execution_count": 7,
   "id": "ffe08352-a354-4278-9160-68c3a3f3fc16",
   "metadata": {},
   "outputs": [
    {
     "name": "stdout",
     "output_type": "stream",
     "text": [
      "[1 2 3]\n"
     ]
    }
   ],
   "source": [
    "# 1 dimension array\n",
    "import numpy as np\n",
    "arr1 = np.array([1,2,3])\n",
    "print(arr1)"
   ]
  },
  {
   "cell_type": "code",
   "execution_count": 8,
   "id": "ef35395a-46d7-4fb4-ab11-47d231c9440b",
   "metadata": {},
   "outputs": [
    {
     "name": "stdout",
     "output_type": "stream",
     "text": [
      "[[1 2 3]\n",
      " [4 5 6]]\n"
     ]
    }
   ],
   "source": [
    "# 2 dimension array\n",
    "import numpy as np\n",
    "arr2 = np.array([[1,2,3],[4,5,6]])\n",
    "print(arr2)"
   ]
  },
  {
   "cell_type": "code",
   "execution_count": 9,
   "id": "e6fe435c-fe6d-47a3-a1f6-237cb3669383",
   "metadata": {},
   "outputs": [
    {
     "name": "stdout",
     "output_type": "stream",
     "text": [
      "[[[1 2 3]\n",
      "  [4 5 6]\n",
      "  [7 8 9]\n",
      "  [7 8 9]]]\n"
     ]
    }
   ],
   "source": [
    "# 2 dimension array\n",
    "import numpy as np\n",
    "arr3 = np.array([[[1,2,3],[4,5,6],[7,8,9],[7,8,9]]])\n",
    "print(arr3)"
   ]
  },
  {
   "cell_type": "code",
   "execution_count": 10,
   "id": "15772e8c-7b67-45da-bec4-f52fe4d48c3f",
   "metadata": {},
   "outputs": [
    {
     "name": "stdout",
     "output_type": "stream",
     "text": [
      "3\n"
     ]
    }
   ],
   "source": [
    "print(arr3.ndim)"
   ]
  },
  {
   "cell_type": "code",
   "execution_count": 11,
   "id": "af76a071-cbf1-475b-b13c-9e45f1334115",
   "metadata": {},
   "outputs": [
    {
     "name": "stdout",
     "output_type": "stream",
     "text": [
      "[[[ 1  2  3  4]\n",
      "  [ 4  5  6  5]]\n",
      "\n",
      " [[ 7  8  9  5]\n",
      "  [10 11 12  4]]]\n"
     ]
    }
   ],
   "source": [
    "# 3 dimension array\n",
    "import numpy as np\n",
    "arr4 = np.array([[[1,2,3,4],[4,5,6,5]],[[7,8,9,5],[10,11,12,4]]])\n",
    "print(arr4)"
   ]
  },
  {
   "cell_type": "code",
   "execution_count": 12,
   "id": "95790c9f-082f-4f52-b76e-d8ca4e40a93a",
   "metadata": {},
   "outputs": [
    {
     "name": "stdout",
     "output_type": "stream",
     "text": [
      "3\n"
     ]
    }
   ],
   "source": [
    "print(arr4.ndim)"
   ]
  },
  {
   "cell_type": "code",
   "execution_count": 13,
   "id": "09302249-d756-41a1-8436-075e9642093e",
   "metadata": {},
   "outputs": [
    {
     "name": "stdout",
     "output_type": "stream",
     "text": [
      "3\n"
     ]
    }
   ],
   "source": [
    "# elements accessing in np - 1D array\n",
    "arr = np.array([1,2,3,4,5])\n",
    "print(arr[2])\n"
   ]
  },
  {
   "cell_type": "code",
   "execution_count": 14,
   "id": "8d266aea-66e9-46c0-bb4d-1d74dcc1bc7a",
   "metadata": {},
   "outputs": [
    {
     "name": "stdout",
     "output_type": "stream",
     "text": [
      "5\n"
     ]
    }
   ],
   "source": [
    "# elements accessing in 2D array\n",
    "arr = np.array([[1,2,3,4,5],[6,7,8,9,10]])\n",
    "print (arr[0,4])"
   ]
  },
  {
   "cell_type": "code",
   "execution_count": 15,
   "id": "e58f86e6-91b1-41ef-8336-384451a8742c",
   "metadata": {},
   "outputs": [
    {
     "name": "stdout",
     "output_type": "stream",
     "text": [
      "4\n"
     ]
    }
   ],
   "source": [
    "# negative indesing in 1D array - accessing elements from right to left\n",
    "arr = np.array([1,2,3,4,5])\n",
    "print(arr[-2])"
   ]
  },
  {
   "cell_type": "code",
   "execution_count": 16,
   "id": "c857d6a0-81d6-4f58-a12f-22a93caea49c",
   "metadata": {},
   "outputs": [
    {
     "name": "stdout",
     "output_type": "stream",
     "text": [
      "9\n"
     ]
    }
   ],
   "source": [
    "# negative indesing in 2D array - accessing elements from right to left\n",
    "import numpy as np\n",
    "arr = np.array([[1,2,3,4,5],\n",
    "              [6,7,8,9,10]])\n",
    "print(arr[1,-2])"
   ]
  },
  {
   "cell_type": "code",
   "execution_count": 17,
   "id": "461e4437-0564-4c30-ab35-2ce6387fc5a4",
   "metadata": {},
   "outputs": [
    {
     "name": "stdout",
     "output_type": "stream",
     "text": [
      "[1 3 5 7 9]\n"
     ]
    }
   ],
   "source": [
    "# slicing elements from array\n",
    "arr = np.array([1,2,3,4,5,6,7,8,9,10])\n",
    "print(arr[0:11:2])"
   ]
  },
  {
   "cell_type": "code",
   "execution_count": 18,
   "id": "a8a1381f-f19a-4a3b-86f0-3d675c47c25f",
   "metadata": {},
   "outputs": [
    {
     "name": "stdout",
     "output_type": "stream",
     "text": [
      "[2 3 4]\n"
     ]
    }
   ],
   "source": [
    "# slicing with negative indexing \n",
    "arr = np.array([1,2,3,4,5,6])\n",
    "print(arr[-5:-2])"
   ]
  },
  {
   "cell_type": "code",
   "execution_count": 19,
   "id": "0c3fe23a-0268-46f0-a1f2-7d31216584a3",
   "metadata": {},
   "outputs": [
    {
     "name": "stdout",
     "output_type": "stream",
     "text": [
      "int32\n"
     ]
    }
   ],
   "source": [
    "# check datatype of an array\n",
    "import numpy as np\n",
    "arr = np.array([1,2,3,4,5])\n",
    "print(arr.dtype)"
   ]
  },
  {
   "cell_type": "code",
   "execution_count": 20,
   "id": "9ed221f9-46f0-4530-809d-95529f82085b",
   "metadata": {},
   "outputs": [
    {
     "name": "stdout",
     "output_type": "stream",
     "text": [
      "[1. 2. 3. 4. 5.]\n"
     ]
    }
   ],
   "source": [
    "# Conversion of datatype\n",
    "print(arr.astype(float))"
   ]
  },
  {
   "cell_type": "code",
   "execution_count": 21,
   "id": "93b3e15a-0e12-4549-9203-5b10864c5d77",
   "metadata": {},
   "outputs": [
    {
     "name": "stdout",
     "output_type": "stream",
     "text": [
      "(11,)\n"
     ]
    }
   ],
   "source": [
    "# check shape of an array\n",
    "import numpy as np\n",
    "arr = np.array([1,2,3,4,5,62,3,4,5,5,6])\n",
    "print(arr.shape)"
   ]
  },
  {
   "cell_type": "code",
   "execution_count": 22,
   "id": "d45fdf39-0e64-4b0d-b278-84a28ef709b2",
   "metadata": {},
   "outputs": [
    {
     "name": "stdout",
     "output_type": "stream",
     "text": [
      "5\n"
     ]
    }
   ],
   "source": [
    "# check size of an array\n",
    "import numpy as np\n",
    "arr = np.array([1,2,3,4,5])\n",
    "print(arr.size)"
   ]
  },
  {
   "cell_type": "code",
   "execution_count": 23,
   "id": "8864202c-f9d4-4841-9d4e-30404726eddf",
   "metadata": {},
   "outputs": [
    {
     "name": "stdout",
     "output_type": "stream",
     "text": [
      "[[2 3 4 5]\n",
      " [6 7 8 4]\n",
      " [5 6 7 8]]\n"
     ]
    }
   ],
   "source": [
    "# reshape if an array\n",
    "import numpy as np\n",
    "arr = np.array([2,3,4,5,6,7,8,4,5,6,7,8])\n",
    "newarr = arr.reshape(3,4)\n",
    "print(newarr)"
   ]
  },
  {
   "cell_type": "code",
   "execution_count": 24,
   "id": "24860aba-5c8c-4b63-8f37-755d2fe5a78e",
   "metadata": {},
   "outputs": [
    {
     "name": "stdout",
     "output_type": "stream",
     "text": [
      "1\n",
      "2\n",
      "3\n",
      "4\n",
      "5\n"
     ]
    }
   ],
   "source": [
    "# Iterating array elements\n",
    "arr = np.array([1,2,3,4,5])\n",
    "for x in arr:\n",
    "    print(x)"
   ]
  },
  {
   "cell_type": "code",
   "execution_count": 25,
   "id": "baf8d1b7-dd05-47e4-a104-83bd02e46756",
   "metadata": {},
   "outputs": [
    {
     "name": "stdout",
     "output_type": "stream",
     "text": [
      "[ 1  2  3  4  5  6  7  8  9 10]\n"
     ]
    }
   ],
   "source": [
    "# Joining array\n",
    "arr1 = np.array([1,2,3,4,5])\n",
    "arr2 = np.array([6,7,8,9,10])\n",
    "arr = np.concatenate([arr1,arr2])\n",
    "print(arr)"
   ]
  },
  {
   "cell_type": "code",
   "execution_count": 26,
   "id": "f7eeb366-2d62-4b5d-a3a8-b8e8048534e1",
   "metadata": {},
   "outputs": [
    {
     "name": "stdout",
     "output_type": "stream",
     "text": [
      "[array([1, 2, 3, 4]), array([5, 6, 7])]\n"
     ]
    }
   ],
   "source": [
    "# Splitting of an array\n",
    "arr = np.array([1,2,3,4,5,6,7])\n",
    "newarr = np.array_split(arr,2)\n",
    "print(newarr)"
   ]
  },
  {
   "cell_type": "code",
   "execution_count": 27,
   "id": "4b08a789-ddac-4fe6-b895-9919121459f7",
   "metadata": {},
   "outputs": [
    {
     "name": "stdout",
     "output_type": "stream",
     "text": [
      "(array([0], dtype=int64),)\n"
     ]
    }
   ],
   "source": [
    "# Searching of an array\n",
    "arr = np.array([1,2,3,4,5,6])\n",
    "arr1 = np.array([1.3,2.4,3.5,4.4,5.5,6.6])\n",
    "x = np.where(arr1 == 1.3)\n",
    "print(x)"
   ]
  },
  {
   "cell_type": "code",
   "execution_count": 28,
   "id": "af7ce94e-1a06-4089-85ea-4d855da1f520",
   "metadata": {},
   "outputs": [
    {
     "name": "stdout",
     "output_type": "stream",
     "text": [
      "ascending order [0 1 3 4]\n",
      "descending order [4 3 1 0]\n"
     ]
    }
   ],
   "source": [
    "# Sorting of array\n",
    "    # Ascending order\n",
    "arr = np.array([1,3,4,0])\n",
    "print(\"ascending order\", np.sort(arr))\n",
    "\n",
    "    # Descending order\n",
    "arr1 = np.array([1,3,4,0])\n",
    "print(\"descending order\",np.sort(arr1)[::-1])"
   ]
  },
  {
   "cell_type": "code",
   "execution_count": 29,
   "id": "fe4dd68f-7b16-417e-ab5a-f03a54f18908",
   "metadata": {},
   "outputs": [
    {
     "name": "stdout",
     "output_type": "stream",
     "text": [
      "[41 42 43 44]\n"
     ]
    }
   ],
   "source": [
    "# Filtering of array elements\n",
    "arr = np.array([41,42,43,44])\n",
    "x = True,False,True,False\n",
    "newarr = arr\n",
    "print(newarr)"
   ]
  },
  {
   "cell_type": "code",
   "execution_count": 34,
   "id": "6aa7c42f-9a93-49fc-bce9-623da43693f2",
   "metadata": {},
   "outputs": [
    {
     "name": "stdout",
     "output_type": "stream",
     "text": [
      "[False, False, True, True]\n",
      "[43 44]\n"
     ]
    }
   ],
   "source": [
    "arr = np.array([41,42,43,44])\n",
    "    #create an empty list\n",
    "filter_arr = []\n",
    "    # go through each element in arr\n",
    "for element in arr:\n",
    "    # if the elements are higher than 42 set the value to true otherwise false\n",
    "    if element > 42:\n",
    "        filter_arr.append(True)\n",
    "    else:\n",
    "        filter_arr.append(False)\n",
    "newarr = arr[filter_arr]\n",
    "print(filter_arr)\n",
    "print(newarr)"
   ]
  },
  {
   "cell_type": "code",
   "execution_count": null,
   "id": "a106cd9d-cbd1-4e33-ae5f-a9b39c3f2d23",
   "metadata": {},
   "outputs": [],
   "source": [
    "    # Adding and removing elements\n",
    "import numpy as np\n",
    "arr = np.array([10,20,30,40,50])\n",
    "    # append (adds at last)\n",
    "arr = np.array([10,20,30,40,50])\n",
    "print(np.append(arr,[60,70]))\n",
    "\n",
    "    # Insert (adds in specific index)\n",
    "print(np.insert(arr,4,80))\n",
    "\n",
    "    # Deleting of an element by its index\n",
    "print (np.delete(arr,[3]))"
   ]
  },
  {
   "cell_type": "code",
   "execution_count": null,
   "id": "e9e93e3e-ca72-4bc7-8b27-8d95c9820a23",
   "metadata": {},
   "outputs": [],
   "source": [
    "# Aggregate functions \n",
    "a = np.array([10,20,30,40,50])\n",
    "    #sum\n",
    "print(np.sum(a))\n",
    "    #minimum\n",
    "print(np.min(a))\n",
    "    #maximum\n",
    "print(np.max(a))\n",
    "    #cimulative sum\n",
    "print(np.cumsum(a))"
   ]
  }
 ],
 "metadata": {
  "kernelspec": {
   "display_name": "Python 3 (ipykernel)",
   "language": "python",
   "name": "python3"
  },
  "language_info": {
   "codemirror_mode": {
    "name": "ipython",
    "version": 3
   },
   "file_extension": ".py",
   "mimetype": "text/x-python",
   "name": "python",
   "nbconvert_exporter": "python",
   "pygments_lexer": "ipython3",
   "version": "3.12.7"
  }
 },
 "nbformat": 4,
 "nbformat_minor": 5
}
